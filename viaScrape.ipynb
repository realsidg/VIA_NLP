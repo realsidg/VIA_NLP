{
  "nbformat": 4,
  "nbformat_minor": 0,
  "metadata": {
    "colab": {
      "name": "viaScrape.ipynb",
      "provenance": [],
      "include_colab_link": true
    },
    "kernelspec": {
      "name": "python3",
      "display_name": "Python 3"
    }
  },
  "cells": [
    {
      "cell_type": "markdown",
      "metadata": {
        "id": "view-in-github",
        "colab_type": "text"
      },
      "source": [
        "<a href=\"https://colab.research.google.com/github/realsidg/VIA_NLP/blob/main/viaScrape.ipynb\" target=\"_parent\"><img src=\"https://colab.research.google.com/assets/colab-badge.svg\" alt=\"Open In Colab\"/></a>"
      ]
    },
    {
      "cell_type": "code",
      "metadata": {
        "id": "LeHNDdekAsyL",
        "colab": {
          "base_uri": "https://localhost:8080/"
        },
        "outputId": "54203abc-3e76-4756-9281-1605c827db64"
      },
      "source": [
        "!pip install beautifulsoup4"
      ],
      "execution_count": null,
      "outputs": [
        {
          "output_type": "stream",
          "text": [
            "Requirement already satisfied: beautifulsoup4 in /usr/local/lib/python3.6/dist-packages (4.6.3)\n"
          ],
          "name": "stdout"
        }
      ]
    },
    {
      "cell_type": "code",
      "metadata": {
        "id": "GQzMk0OLAMA2"
      },
      "source": [
        "from bs4 import BeautifulSoup"
      ],
      "execution_count": null,
      "outputs": []
    },
    {
      "cell_type": "code",
      "metadata": {
        "id": "xZizTRVuBSe_"
      },
      "source": [
        "import requests \n",
        "from bs4 import BeautifulSoup \n",
        "import csv \n",
        "   \n",
        "URL = \"https://www.tutorialspoint.com/data_structures_algorithms/data_structures_algorithms_interview_questions.htm\"\n",
        "r = requests.get(URL) \n",
        "   \n",
        "soup = BeautifulSoup(r.content, 'html5lib') "
      ],
      "execution_count": null,
      "outputs": []
    },
    {
      "cell_type": "code",
      "metadata": {
        "id": "39B_kCgvBbBD",
        "colab": {
          "base_uri": "https://localhost:8080/"
        },
        "outputId": "9f572d4b-144f-4b7b-e485-3a772367f248"
      },
      "source": [
        " \n",
        "questions=[]  # a list to store quses\n",
        "   \n",
        "table = soup.findAll('section', attrs = {'class':'toggle'})  \n",
        "for r in table:\n",
        "  print(r)   \n",
        "  break"
      ],
      "execution_count": null,
      "outputs": [
        {
          "output_type": "stream",
          "text": [
            "<section class=\"toggle\">\n",
            "<label> What is data-structure?</label>\n",
            "<div class=\"toggle-content\">\n",
            "<p>Data structure is a way of defining, storing &amp; retriving of data in a structural &amp; systemetic way. A data structure may contain different type of data items.</p>\n",
            "</div>\n",
            "</section>\n"
          ],
          "name": "stdout"
        }
      ]
    },
    {
      "cell_type": "code",
      "metadata": {
        "id": "lKKqmNxCFyhq"
      },
      "source": [
        "questions = []"
      ],
      "execution_count": null,
      "outputs": []
    },
    {
      "cell_type": "code",
      "metadata": {
        "id": "isWt3e5qBr7M"
      },
      "source": [
        "for row in table:\n",
        "  try:\n",
        "    ques = {}\n",
        "    ques['q'] = row.label.text\n",
        "    ques['a'] = row.div.p.text\n",
        "    questions.append(ques)\n",
        "  except:\n",
        "    pass"
      ],
      "execution_count": null,
      "outputs": []
    },
    {
      "cell_type": "code",
      "metadata": {
        "id": "QJiQmUasEAod",
        "colab": {
          "base_uri": "https://localhost:8080/"
        },
        "outputId": "2f02242d-228c-406e-a35a-c2f72952b719"
      },
      "source": [
        "len(questions)"
      ],
      "execution_count": null,
      "outputs": [
        {
          "output_type": "execute_result",
          "data": {
            "text/plain": [
              "49"
            ]
          },
          "metadata": {
            "tags": []
          },
          "execution_count": 26
        }
      ]
    },
    {
      "cell_type": "code",
      "metadata": {
        "id": "nYMK1exEFSYc",
        "colab": {
          "base_uri": "https://localhost:8080/"
        },
        "outputId": "fbd05fa9-2f03-4513-92c9-9e625644b3d6"
      },
      "source": [
        "questions[10]"
      ],
      "execution_count": null,
      "outputs": [
        {
          "output_type": "execute_result",
          "data": {
            "text/plain": [
              "{'a': 'The below given problems find their solution using greedy algorithm approach −',\n",
              " 'q': ' Give some examples greedy algorithms.'}"
            ]
          },
          "metadata": {
            "tags": []
          },
          "execution_count": 27
        }
      ]
    },
    {
      "cell_type": "code",
      "metadata": {
        "id": "vfDW0tcqGCN7",
        "colab": {
          "base_uri": "https://localhost:8080/"
        },
        "outputId": "62b323f7-e629-4369-e890-a31c6f9084f9"
      },
      "source": [
        "questions[0]"
      ],
      "execution_count": null,
      "outputs": [
        {
          "output_type": "execute_result",
          "data": {
            "text/plain": [
              "{'a': 'Data structure is a way of defining, storing & retriving of data in a structural & systemetic way. A data structure may contain different type of data items.',\n",
              " 'q': ' What is data-structure?'}"
            ]
          },
          "metadata": {
            "tags": []
          },
          "execution_count": 29
        }
      ]
    },
    {
      "cell_type": "code",
      "metadata": {
        "id": "EQHNj24mGHEa"
      },
      "source": [
        "blob = \"\"\n",
        "for q in questions:\n",
        "  blob += q['q']+'\\n'+q['a']+'\\n'"
      ],
      "execution_count": null,
      "outputs": []
    },
    {
      "cell_type": "code",
      "metadata": {
        "id": "EdjkHpkAGfQ0",
        "colab": {
          "base_uri": "https://localhost:8080/"
        },
        "outputId": "4bb87e8d-0ef5-44a9-e1be-9a2900044988"
      },
      "source": [
        "print(blob)"
      ],
      "execution_count": null,
      "outputs": [
        {
          "output_type": "stream",
          "text": [
            " What is data-structure?\n",
            "Data structure is a way of defining, storing & retriving of data in a structural & systemetic way. A data structure may contain different type of data items.\n",
            " What are various data-structures available?\n",
            "Data structure availability may vary by programming languages. Commonly available data structures are list, arrays, stack, queues, graph, tree etc.\n",
            " What is algorithm?\n",
            "Algorithm is a step by step procedure, which defines a set of instructions to be executed in certain order to get the desired output.\n",
            " Why we need to do algorithm analysis?\n",
            "A problem can be solved in more than one ways. So, many solution algorithms can be derived for a given problem. We analyze available algorithms to find and implement the best suitable algorithm.\n",
            " What are the criteria of algorithm analysis?\n",
            "An algorithm are generally analyzed on two factors − time and space. That is, how much execution time and how much extra space required by the algorithm.\n",
            " What is asymptotic analysis of an algorithm?\n",
            "Asymptotic analysis of an algorithm, refers to defining the mathematical boundation/framing of its run-time performance. Using asymptotic analysis, we can very well conclude the best case, average case and worst case scenario of an algorithm.\n",
            " What are asymptotic notations?\n",
            "Asymptotic analysis can provide three levels of mathematical binding of execution time of an algorithm −\n",
            " What is linear data structure?\n",
            "A linear data-structure has sequentially arranged data items. The next time can be located in the next memory address. It is stored and accessed in a sequential manner.  Array and list are example of linear data structure.\n",
            " What are common operations that can be performed on a data-structure?\n",
            "The following operations are commonly performed on any data-structure −\n",
            " Briefly explain the approaches to develop algorithms.\n",
            "There are three commonly used approaches to develop algorithms −\n",
            " Give some examples greedy algorithms.\n",
            "The below given problems find their solution using greedy algorithm approach −\n",
            " What are some examples of divide and conquer algorithms?\n",
            "The below given problems find their solution using divide and conquer algorithm approach −\n",
            " What are some examples of dynamic programming algorithms?\n",
            "The below given problems find their solution using divide and conquer algorithm approach −\n",
            " What is a linked-list?\n",
            "A linked-list is a list of data-items connected with links i.e. pointers or references. Most modern high-level programming language does not provide the feature of directly accessing memory location, therefore, linked-list are not supported in them or available in form of inbuilt functions.\n",
            " What is stack?\n",
            "In data-structure, stack is an Abstract Data Type (ADT) used to store and retrieve values in Last In First Out method.\n",
            " Why do we use stacks?\n",
            "Stacks follows LIFO method and addition and retrieval of a data item takes only Ο(n) time. Stacks are used where we need to access data in the reverse order or their arrival. Stacks are used commonly in recursive function calls, expression parsing, depth first traversal of graphs etc.\n",
            " What operations can be performed on stacks?\n",
            "The below operations can be performed on a stack −\n",
            " What is a queue in data-structure?\n",
            "Queue is an abstract data structure, somewhat similar to stack. In contrast to stack, queue is opened at both end. One end is always used to insert data (enqueue) and the other is used to remove data (dequeue). Queue follows First-In-First-Out methodology, i.e., the data item stored first will be accessed first.\n",
            " Why do we use queues?\n",
            "As queues follows FIFO method, they are used when we need to work on data-items in exact sequence of their arrival. Every operating system maintains queues of various processes. Priority queues and breadth first traversal of graphs are some examples of queues.\n",
            " What operations can be performed on Queues?\n",
            "The below operations can be performed on a stack −\n",
            " What is linear searching?\n",
            "Linear search tries to find an item in a sequentially arranged data type. These sequentially arranged data items known as array or list, are accessible in incrementing memory location. Linear search compares expected data item with each of data items in list or array. The average case time complexity of linear search is Ο(n) and worst case complexity is Ο(n2). Data in target arrays/lists need not to be sorted.\n",
            " What is binary search?\n",
            "A binary search works only on sorted lists or arrays. This search selects the middle which splits the entire list into two parts. First the middle is compared.\n",
            " What is bubble sort and how bubble sort works?\n",
            "Bubble sort is comparison based algorithm in which each pair of adjacent elements is compared and elements are swapped if they are not in order. Because the time complexity is Ο(n2), it is not suitable for large set of data.\n",
            " Tell me something about 'insertion sort'?\n",
            "Insertion sort divides the list into two sub-list, sorted and unsorted. It takes one element at time and finds it appropriate location in sorted sub-list and insert there.  The output after insertion is a sorted sub-list. It iteratively works on all the elements of unsorted sub-list and inserts them to sorted sub-list in order.\n",
            " What is selection sort?\n",
            "Selection sort is in-place sorting technique. It divides the data set into two sub-lists: sorted and unsorted. Then it selects the minimum element from unsorted sub-list and places it into the sorted list. This iterates unless all the elements from unsorted sub-list are consumed into sorted sub-list.\n",
            " How insertion sort and selection sorts are different?\n",
            "Both sorting techniques maintains two sub-lists, sorted and unsorted and both take one element at a time and places it into sorted sub-list. Insertion sort works on the current element in hand and places it in the sorted array at appropriate location maintaining the properties of insertion sort. Whereas, selection sort searches the minimum from the unsorted sub-list and replaces it with the current element in hand.\n",
            " What is merge sort and how it works?\n",
            "Merge sort is sorting algorithm based on divide and conquer programming approach. It keeps on dividing the list into smaller sub-list until all sub-list has only 1 element.  And then it merges them in a sorted way until all sub-lists are consumed. It has run-time complexity of Ο(n log n) and it needs Ο(n) auxiliary space.\n",
            " What is shell sort?\n",
            "Shell sort can be said a variant of insertion sort. Shell sort divides the list into smaller sublist based on some gap variable and then each sub-list is sorted using insertion sort. In best cases, it can perform upto Ο(n log n).\n",
            " How quick sort works?\n",
            "Quick sort uses divide and conquer approach. It divides the list in smaller 'partitions' using 'pivot'. The values which are smaller than the pivot are arranged in the left partition and greater values are arranged in the right partition. Each partition is recursively sorted using quick sort.\n",
            " What is a graph?\n",
            "A graph is a pictorial representation of a set of objects where some pairs of objects are connected by links. The interconnected objects are represented by points termed as vertices, and the links that connect the vertices are called edges.\n",
            " How depth first traversal works?\n",
            "Depth First Search algorithm(DFS) traverses a graph in a depthward motion and uses a stack to remember to get the next vertex to start a search when a dead end occurs in any iteration.\n",
            " How breadth first traversal works?\n",
            "Breadth First Search algorithm(BFS) traverses a graph in a breadthwards motion and uses a queue to remember to get the next vertex to start a search when a dead end occurs in any iteration.\n",
            " What is a tree?\n",
            "A tree is a minimally connected graph having no loops and circuits.\n",
            " What is a binary tree?\n",
            "A binary tree has a special condition that each node can have two children at maximum.\n",
            " What is a binary search tree?\n",
            "A binary search tree is a binary tree with a special provision where a node's left child must have value less than its parent's value and node's right child must have value greater than it's parent value.\n",
            " What is tree traversal?\n",
            "Tree traversal is a process to visit all the nodes of a tree. Because, all nodes are connected via edges (links) we always start from the root (head) node. There are three ways which we use to traverse a tree −\n",
            " What is an AVL Tree?\n",
            "AVL trees are height balancing binary search tree. AVL tree checks the height of left and right sub-trees and assures that the difference is not more than 1. This difference is called Balance Factor.\n",
            " What is a spanning tree?\n",
            "A spanning tree is a subset of Graph G, which has all the vertices covered with minimum possible number of edges. A spanning tree does not have cycles and it can not be disconnected.\n",
            " How many spanning trees can a graph has?\n",
            "It depends on how connected the graph is. A complete undirected graph can have maximum nn-1 number of spanning trees, where n is number of nodes.\n",
            " How Kruskal's algorithm works?\n",
            "This algorithm treats the graph as a forest and every node it as an individual tree. A tree connects to another only and only if it has least cost among all available options and does not violate MST properties.\n",
            " How Prim's algorithm finds spanning tree?\n",
            "Prim's algorithm treats the nodes as a single tree and keeps on adding new nodes to the spanning tree from the given graph.\n",
            " What is a minimum spanning tree (MST)?\n",
            "In a weighted graph, a minimum spanning tree is a spanning tree that has minimum weight that all other spanning trees of the same graph.\n",
            " What is a heap in data structure?\n",
            "Heap is a special balanced binary tree data structure where root-node key is compared with its children and arranged accordingly. A min-heap, a parent node has key value less than its childs and a max-heap parent node has value greater than its childs.\n",
            " What is a recursive function?\n",
            "A recursive function is one which calls itself, directly or calls a function that in turn calls it. Every recursive function follows the recursive properties − base criteria where functions stops calling itself and progressive approach where the functions tries to meet the base criteria in each iteration.\n",
            " What is tower of hanoi?\n",
            "Tower of Hanoi, is a mathematical puzzle which consists of three tower (pegs) and more than one rings. All rings are of different size and stacked upon each other where the large disk is always below the small disk. The aim is to move the tower of disk from one peg to another, without breaking its properties.\n",
            " What is fibonacci series?\n",
            " Fibonacci Series generates subsequent number by adding two previous numbers. For example − 0 1 1 2 3 5 8 13.\n",
            " What is hashing?\n",
            "Hashing is a technique to convert a range of key values into a range of indexes of an array. By using hash tables, we can create an associative data storage where data index can be find by providing its key values.\n",
            " What is interpolation search technique?\n",
            "Interpolation search is an improved variant of binary search. This search algorithm works on the probing position of required value.\n",
            " What is the prefix and post fix notation of (a + b) * (c + d) ?\n",
            "Prefix Notation  − * + a b + c d\n",
            "\n"
          ],
          "name": "stdout"
        }
      ]
    },
    {
      "cell_type": "code",
      "metadata": {
        "id": "EoDaFFF_GnWL"
      },
      "source": [
        ""
      ],
      "execution_count": null,
      "outputs": []
    }
  ]
}